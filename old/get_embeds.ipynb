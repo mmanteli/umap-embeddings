{
 "cells": [
  {
   "cell_type": "code",
   "execution_count": 1,
   "id": "b8c8dae9-b285-4da9-9062-9a35a5f2f94c",
   "metadata": {},
   "outputs": [],
   "source": [
    "from transformers import AutoTokenizer, AutoModelForSequenceClassification\n",
    "import torch\n",
    "import numpy as np\n",
    "import datasets\n",
    "import json"
   ]
  },
  {
   "cell_type": "code",
   "execution_count": 2,
   "id": "34fe6d86-90e8-4eef-bf8e-b447e09009ed",
   "metadata": {},
   "outputs": [],
   "source": [
    "!PYTORCH_CUDA_ALLOC_CONF=expandable_segments:True"
   ]
  },
  {
   "cell_type": "code",
   "execution_count": 3,
   "id": "60f15bcb-bf40-45b9-b011-f290b4383bbf",
   "metadata": {},
   "outputs": [],
   "source": [
    "base_model_name =\"xlm-roberta-base\"\n",
    "model_name = \"/scratch/project_2009199/pytorch-registerlabeling/models/xlm-roberta-large/labels_upper/en-fi-fr-sv-tr_en-fi-fr-sv-tr/seed_42/fold_1\"\n",
    "device = \"cuda:0\" if torch.cuda.is_available() else \"cpu\"\n",
    "lang=\"zh\""
   ]
  },
  {
   "cell_type": "code",
   "execution_count": 4,
   "id": "50af26dd-b32d-4952-b72d-a82a01206091",
   "metadata": {},
   "outputs": [
    {
     "data": {
      "text/plain": [
       "XLMRobertaForSequenceClassification(\n",
       "  (roberta): XLMRobertaModel(\n",
       "    (embeddings): XLMRobertaEmbeddings(\n",
       "      (word_embeddings): Embedding(250002, 1024, padding_idx=1)\n",
       "      (position_embeddings): Embedding(514, 1024, padding_idx=1)\n",
       "      (token_type_embeddings): Embedding(1, 1024)\n",
       "      (LayerNorm): LayerNorm((1024,), eps=1e-05, elementwise_affine=True)\n",
       "      (dropout): Dropout(p=0.1, inplace=False)\n",
       "    )\n",
       "    (encoder): XLMRobertaEncoder(\n",
       "      (layer): ModuleList(\n",
       "        (0-23): 24 x XLMRobertaLayer(\n",
       "          (attention): XLMRobertaAttention(\n",
       "            (self): XLMRobertaSelfAttention(\n",
       "              (query): Linear(in_features=1024, out_features=1024, bias=True)\n",
       "              (key): Linear(in_features=1024, out_features=1024, bias=True)\n",
       "              (value): Linear(in_features=1024, out_features=1024, bias=True)\n",
       "              (dropout): Dropout(p=0.1, inplace=False)\n",
       "            )\n",
       "            (output): XLMRobertaSelfOutput(\n",
       "              (dense): Linear(in_features=1024, out_features=1024, bias=True)\n",
       "              (LayerNorm): LayerNorm((1024,), eps=1e-05, elementwise_affine=True)\n",
       "              (dropout): Dropout(p=0.1, inplace=False)\n",
       "            )\n",
       "          )\n",
       "          (intermediate): XLMRobertaIntermediate(\n",
       "            (dense): Linear(in_features=1024, out_features=4096, bias=True)\n",
       "            (intermediate_act_fn): GELUActivation()\n",
       "          )\n",
       "          (output): XLMRobertaOutput(\n",
       "            (dense): Linear(in_features=4096, out_features=1024, bias=True)\n",
       "            (LayerNorm): LayerNorm((1024,), eps=1e-05, elementwise_affine=True)\n",
       "            (dropout): Dropout(p=0.1, inplace=False)\n",
       "          )\n",
       "        )\n",
       "      )\n",
       "    )\n",
       "  )\n",
       "  (classifier): XLMRobertaClassificationHead(\n",
       "    (dense): Linear(in_features=1024, out_features=1024, bias=True)\n",
       "    (dropout): Dropout(p=0.1, inplace=False)\n",
       "    (out_proj): Linear(in_features=1024, out_features=9, bias=True)\n",
       "  )\n",
       ")"
      ]
     },
     "execution_count": 4,
     "metadata": {},
     "output_type": "execute_result"
    }
   ],
   "source": [
    "model = AutoModelForSequenceClassification.from_pretrained(model_name)\n",
    "tokenizer = AutoTokenizer.from_pretrained(base_model_name)\n",
    "model.to(device)"
   ]
  },
  {
   "cell_type": "code",
   "execution_count": 5,
   "id": "0a01b61a-e8de-401d-9bb6-dab7dcbf2c5b",
   "metadata": {},
   "outputs": [],
   "source": [
    "#! huggingface-cli login"
   ]
  },
  {
   "cell_type": "code",
   "execution_count": 6,
   "id": "d0b71303-a5ab-40f7-862f-e60ca5435b14",
   "metadata": {},
   "outputs": [
    {
     "name": "stderr",
     "output_type": "stream",
     "text": [
      "/usr/local/lib/python3.9/site-packages/huggingface_hub/repocard.py:105: UserWarning: Repo card metadata block was not found. Setting CardData to empty.\n",
      "  warnings.warn(\"Repo card metadata block was not found. Setting CardData to empty.\")\n"
     ]
    }
   ],
   "source": [
    "dataset = datasets.load_dataset(\"TurkuNLP/register_oscar\", data_files={lang:f'{lang}/{lang}_00000.jsonl.gz'}, cache_dir=\"/scratch/project_2009199/cache\")"
   ]
  },
  {
   "cell_type": "code",
   "execution_count": 7,
   "id": "0ffe68fe-4790-4fcb-b775-f9974f641e22",
   "metadata": {},
   "outputs": [
    {
     "data": {
      "application/vnd.jupyter.widget-view+json": {
       "model_id": "16dd9f7901e94007bf8dba43b0ab9e1c",
       "version_major": 2,
       "version_minor": 0
      },
      "text/plain": [
       "Filter:   0%|          | 0/146611 [00:00<?, ? examples/s]"
      ]
     },
     "metadata": {},
     "output_type": "display_data"
    },
    {
     "name": "stdout",
     "output_type": "stream",
     "text": [
      "DatasetDict({\n",
      "    zh: Dataset({\n",
      "        features: ['id', 'labels', 'text'],\n",
      "        num_rows: 4073\n",
      "    })\n",
      "})\n"
     ]
    }
   ],
   "source": [
    "\n",
    "dataset = dataset.filter(lambda example, idx: idx % 36 == 0, with_indices=True)\n",
    "print(dataset)"
   ]
  },
  {
   "cell_type": "code",
   "execution_count": 8,
   "id": "19606d25-c25e-4ebb-b6f5-a44e5fae71a0",
   "metadata": {},
   "outputs": [],
   "source": [
    "labels = np.array([\"MT\",\"LY\",\"SP\",\"ID\",\"NA\",\"HI\",\"IN\",\"OP\",\"IP\"])\n",
    "def predict(d,lang):\n",
    "    #print(d[\"text\"])\n",
    "    #print(tokenizer(d[\"text\"], return_tensors='pt', truncation='only_first'))\n",
    "    #return d\n",
    "    with torch.no_grad():\n",
    "        output = model(d[\"encoded\"][\"input_ids\"].to(device), output_hidden_states=True)\n",
    "    logits = output[\"logits\"].cpu()\n",
    "    pred = [labels[i] for i in np.where(logits > 0.5)[1]]\n",
    "    hidden_states = output[\"hidden_states\"]\n",
    "    indices = np.array([0, len(hidden_states)//2, -1], dtype=int)\n",
    "    embed = [torch.mean(hidden_states[i],axis=1).cpu().tolist() for i in indices]\n",
    "    torch.cuda.empty_cache()\n",
    "    return {\"id\": d[\"id\"], \"lang\":lang, \"labels\": d[\"labels\"],\"preds\": pred, \"embed_first\":embed[0], \"embed_half\":embed[1], \"embed_last\":embed[2]}\n",
    "    #return [d[\"id\"],d[\"labels\"],pred,embed]\n",
    "\n",
    "\n",
    "def tokenize(d):\n",
    "    return tokenizer(d[\"text\"], return_tensors='pt', truncation=True)\n",
    "\n",
    "\n",
    "#text = \"Moday 20th October a bad car crash on highway 7. More at...\"\n",
    "#text = dataset[\"en\"][0][\"text\"]\n",
    "#predict(text)"
   ]
  },
  {
   "cell_type": "code",
   "execution_count": 9,
   "id": "23453dc7-55c7-491a-8ed9-b6381a8721af",
   "metadata": {},
   "outputs": [
    {
     "data": {
      "application/vnd.jupyter.widget-view+json": {
       "model_id": "264e0a79cb2e4dbea261040b14e5834f",
       "version_major": 2,
       "version_minor": 0
      },
      "text/plain": [
       "Map:   0%|          | 0/4073 [00:00<?, ? examples/s]"
      ]
     },
     "metadata": {},
     "output_type": "display_data"
    }
   ],
   "source": [
    "dataset = dataset.map(lambda line: {\"encoded\": tokenize(line)})\n",
    "dataset = dataset.with_format(\"torch\")"
   ]
  },
  {
   "cell_type": "code",
   "execution_count": 10,
   "id": "7819b713-46cf-40b3-99f4-4c94e04deae8",
   "metadata": {},
   "outputs": [],
   "source": [
    "#dataset = dataset.map(lambda line: predict(line)).remove_columns([\"text\", \"encoded\"])\n",
    "#with open(\"testi_embeds.jsonl\", \"w\") as outfile:\n",
    "#    for d in dataset[\"en\"]:\n",
    "#        outfile.write(json.dumps(predict(d)))\n",
    "#with open(\"testi_embeds.jsonl\", \"w\") as file:\n",
    "#    for d in dataset[\"en\"]:\n",
    "#        json.dump(predict(d), file)\n",
    "results = []\n",
    "for d in dataset[lang]:\n",
    "    results.append(predict(d,lang))"
   ]
  },
  {
   "cell_type": "code",
   "execution_count": 11,
   "id": "26aa7271-1025-4187-9339-7268f0ca29cd",
   "metadata": {},
   "outputs": [],
   "source": [
    "import pandas as pd"
   ]
  },
  {
   "cell_type": "code",
   "execution_count": 12,
   "id": "cf9d265d-689b-45ce-9e42-874dbc87be52",
   "metadata": {},
   "outputs": [],
   "source": [
    "df = pd.DataFrame(results)"
   ]
  },
  {
   "cell_type": "code",
   "execution_count": 13,
   "id": "5683a186-0ce4-410f-b86d-e109f6fd0041",
   "metadata": {},
   "outputs": [],
   "source": [
    "df.to_csv(lang+\"_embeds.tsv\", sep=\"\\t\", header=True)"
   ]
  },
  {
   "cell_type": "code",
   "execution_count": null,
   "id": "18b9141a-9e9b-40bc-b3f0-c462f19aeea0",
   "metadata": {},
   "outputs": [],
   "source": []
  }
 ],
 "metadata": {
  "kernelspec": {
   "display_name": "Python 3",
   "language": "python",
   "name": "python3"
  },
  "language_info": {
   "codemirror_mode": {
    "name": "ipython",
    "version": 3
   },
   "file_extension": ".py",
   "mimetype": "text/x-python",
   "name": "python",
   "nbconvert_exporter": "python",
   "pygments_lexer": "ipython3",
   "version": "3.9.18"
  }
 },
 "nbformat": 4,
 "nbformat_minor": 5
}
